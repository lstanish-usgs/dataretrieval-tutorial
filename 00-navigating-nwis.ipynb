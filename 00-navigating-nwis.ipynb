{
 "cells": [
  {
   "cell_type": "markdown",
   "metadata": {},
   "source": [
    "# dataretrieval Overview\n",
    "\n",
    "## What is dataretrieval?\n",
    "`dataretrieval` was created to simplify the process of loading hydrologic data into the Python environment.\n",
    "Like the original R version [`dataRetrieval`](https://github.com/DOI-USGS/dataRetrieval),\n",
    "it is designed to retrieve the major data types of U.S. Geological Survey (USGS) hydrology\n",
    "data that are available on the Web, as well as data from the Water\n",
    "Quality Portal (WQP), which houses water quality data from many organizations and agencies in the U.S. including the\n",
    "Environmental Protection Agency (EPA) and USGS.\n",
    "\n",
    "By the end of this tutorial, you should be comfortable using the `dataretrieval` package to query\n",
    "water data from USGS or the multi-agency Water Quality Portal. The tutorial also demonstrates several simple but versitile patterns for cleaning and visualizing those data.\n",
    "\n",
    "## R tutorial\n",
    "For those that prefer R, Laura DeCicco has a nice tutorial [here](https://code.usgs.gov/water/dataRetrieval/-/blob/main/vignettes/tutorial.Rmd?ref_type=heads).\n",
    "The content diverge at several points but the learning outcomes are similar.\n",
    "\n",
    "## Installation\n",
    "\n",
    "`dataretrieval` is available on the Python Package Index (PyPI).\n",
    "If it is not included in your Python environment, install it from PyPI\n",
    "\n",
    "```bash\n",
    "pip install dataretrieval\n",
    "```\n",
    "or `conda-forge`\n",
    "```bash\n",
    "conda install -c conda-forge dataretrieval\n",
    "```\n",
    "\n",
    "## NWIS module\n",
    "This notebook introduces the `dataretrieval.nwis` module, which contains functions for querying USGS's National Water Information System (NWIS).\n",
    "\n",
    "### Warning\n",
    "As of March 2024, dataretrieval will rely on the Water Quality Portal (WQP) services to obtain all discrete water quality data from the USGS. This change was made to accommodate recent changes in the NWIS water quality data web services. Note also that the WQP services are being updated; WQP retrievals will be covered below.\n",
    "\n",
    "Begin by importing the `dataretrieval.nwis` module."
   ]
  },
  {
   "cell_type": "code",
   "execution_count": null,
   "metadata": {},
   "outputs": [],
   "source": [
    "from dataretrieval import nwis"
   ]
  },
  {
   "cell_type": "markdown",
   "metadata": {},
   "source": [
    "The user functions in the `nwis` module are prefixed with `get_`.\n",
    "The one exception is the  function `what_sites`, but it's just `get_info`\n",
    "\n",
    "To get a sense of what's available, we can list any function name including the strings 'get' or 'what':"
   ]
  },
  {
   "cell_type": "code",
   "execution_count": null,
   "metadata": {},
   "outputs": [],
   "source": [
    "[i  for i in dir(nwis) if 'get' in i or 'what' in i]"
   ]
  },
  {
   "cell_type": "markdown",
   "metadata": {},
   "source": [
    "(note: we can view a function's doc using `help(nwis.get_dv)` or `nwis.get_dv?`"
   ]
  },
  {
   "cell_type": "code",
   "execution_count": null,
   "metadata": {},
   "outputs": [],
   "source": [
    "nwis.get_dv?"
   ]
  },
  {
   "cell_type": "markdown",
   "metadata": {},
   "source": [
    "## National Water Information System (NWIS)  Retrievals\n",
    "USGS water data is housed in the National Water Information System (NWIS). \n",
    "There are many types of data served from NWIS. \n",
    "NWIS serves several types of data, but before we dive into these services, it's helpful to understand some codes."
   ]
  },
  {
   "cell_type": "markdown",
   "metadata": {},
   "source": [
    "The USGS uses various codes for basic retrievals. These codes can have leading zeros, therefore in Python the data type needs to be define as string (\"01234567\").\n",
    "\n",
    "* Site ID (often 8 or 15-digits)\n",
    "* Parameter Code (5 digits)\n",
    "    + Full list: [https://nwis.waterdata.usgs.gov/usa/nwis/pmcodes](https://nwis.waterdata.usgs.gov/usa/nwis/pmcodes)\n",
    "    + Alternatively use `nwis.get_pmcodes(\"all\")`\n",
    "* Statistic Code (for daily values)\n",
    "    + Full list: [http://help.waterdata.usgs.gov/code/stat_cd_nm_query?stat_nm_cd=%25&fmt=html](http://help.waterdata.usgs.gov/code/stat_cd_nm_query?stat_nm_cd=%25&fmt=html)\n",
    "\n",
    "`dataretrieval` queries return data as a `pandas.DataFrame`,\n",
    "which is convenient for many types of analysis.\n",
    "However, a dataframes have limited support for metadata.\n",
    "As a result, `dataretrieval` functions typically return a tuple of two elements: the dataframe and its metadata."
   ]
  },
  {
   "cell_type": "code",
   "execution_count": null,
   "metadata": {},
   "outputs": [],
   "source": [
    "df, meta = nwis.get_pmcodes(\"00060\"); df"
   ]
  },
  {
   "cell_type": "markdown",
   "metadata": {},
   "source": [
    "Here a few of the most common parameter codes\n",
    "\n",
    "| Code  | Name         |\n",
    "| ------| ------------ |\n",
    "|00060  | Discharge    |\n",
    "|00065  | Gage Height  |\n",
    "|00010\t| Temperature  |\n",
    "|00400\t| pH           |\n",
    "\n",
    "And here are a few common statistic codes\n",
    "\n",
    "| Code  | Name         |\n",
    "| ------| ------------ |\n",
    "|00001  | Maximum      |\n",
    "|00002  | Minimum      |\n",
    "|00003\t| Mean         |\n",
    "|00008\t| Median       |\n"
   ]
  },
  {
   "cell_type": "markdown",
   "metadata": {},
   "source": [
    "The `nwis.get_pmcodes` function returns information on USGS parameter codes. \n",
    "You can use \"all\" to get a full list, then filter out those of interest."
   ]
  },
  {
   "cell_type": "code",
   "execution_count": null,
   "metadata": {},
   "outputs": [],
   "source": [
    "df, _ = nwis.get_pmcodes(\"all\")\n",
    "\n",
    "print(f\"There are {df.shape[0]} parameter codes\")"
   ]
  },
  {
   "cell_type": "markdown",
   "metadata": {},
   "source": [
    "Here is one example to find all the phosphorous parameter codes:"
   ]
  },
  {
   "cell_type": "code",
   "execution_count": null,
   "metadata": {},
   "outputs": [],
   "source": [
    "df[df.parm_nm.str.contains('Phosphorus', case=False)].head(10)"
   ]
  },
  {
   "cell_type": "markdown",
   "metadata": {},
   "source": [
    "## Timeseries query\n"
   ]
  },
  {
   "cell_type": "code",
   "execution_count": null,
   "metadata": {},
   "outputs": [],
   "source": [
    "site = \"05427948\"\n",
    "pcode = \"00060\"\n",
    "start = \"2017-10-01\"\n",
    "end = \"2024-05-30\"\n",
    "\n",
    "\n",
    "df, meta = nwis.get_dv(\n",
    "    sites = site,\n",
    "    start = start,\n",
    "    end = end,\n",
    "    parameterCd = pcode, # kwarg passed to NWIS API\n",
    ")"
   ]
  },
  {
   "cell_type": "markdown",
   "metadata": {},
   "source": [
    "Unless your application requires high-frequency (sub daily) data,\n",
    "I recommend you start with daily values.\n",
    "- Daily datasets are smaller,faster to download, and consume less memory.\n",
    "- Instantaneous data commonly have more gaps and require extra processing,\n",
    "- Missing daily values are estimated and flagged with an 'e'.\n",
    "\n",
    "From the Pheasant Creek example, let’s look at the data."
   ]
  },
  {
   "cell_type": "code",
   "execution_count": null,
   "metadata": {},
   "outputs": [],
   "source": [
    "df"
   ]
  },
  {
   "cell_type": "code",
   "execution_count": null,
   "metadata": {},
   "outputs": [],
   "source": [
    "meta # the class _repr_ displays the query url"
   ]
  },
  {
   "cell_type": "markdown",
   "metadata": {},
   "source": [
    "The metadata records the query url, which can be useful for debugging,\n",
    "as well as the date and time of the query."
   ]
  },
  {
   "cell_type": "code",
   "execution_count": null,
   "metadata": {},
   "outputs": [],
   "source": [
    "meta.header"
   ]
  },
  {
   "cell_type": "markdown",
   "metadata": {},
   "source": [
    "Now let's use `pandas` built-in plotting to visualize our query results."
   ]
  },
  {
   "cell_type": "code",
   "execution_count": null,
   "metadata": {},
   "outputs": [],
   "source": [
    "df.plot()"
   ]
  },
  {
   "cell_type": "markdown",
   "metadata": {},
   "source": [
    "Uh oh. If your plot looks strange, try filtering to just the \"approved\" data"
   ]
  },
  {
   "cell_type": "code",
   "execution_count": null,
   "metadata": {},
   "outputs": [],
   "source": [
    "df.loc[~df['00060_Mean_cd'].str.contains('A')] = None\n",
    "df.plot()"
   ]
  },
  {
   "cell_type": "markdown",
   "metadata": {},
   "source": [
    "Better!\n",
    "\n",
    "When doing some initial exploration, it's much nicer to have interactive plots. \n",
    "Python has a diverse plotting ecosystem.\n",
    "Most libraries will try to give a `matplotlib`-like experience. For example, `pandas` plotting uses `matplotlib` backend by default with many of the same arguments. \n",
    "For this reason, Python programmers generally learn `matplotlib` before experimenting with other libraries.\n",
    "But the other libraries are extremely good too. Here we'll demonstrate `hvplot` for interactive plotting, which has good integration with `pandas` and `xarray`."
   ]
  },
  {
   "cell_type": "code",
   "execution_count": null,
   "metadata": {},
   "outputs": [],
   "source": [
    "import hvplot.pandas\n",
    "\n",
    "df.hvplot() # add the letters \"hv\"\n",
    "\n",
    "# or\n",
    "# pd.options.plotting.backend = \"holoviews\""
   ]
  },
  {
   "cell_type": "markdown",
   "metadata": {},
   "source": [
    "#### Here's another common \"gotcha\":"
   ]
  },
  {
   "cell_type": "code",
   "execution_count": null,
   "metadata": {},
   "outputs": [],
   "source": [
    "from dataretrieval import nwis\n",
    "\n",
    "df, metadata = nwis.get_dv(site = '08271000', start='1900-01-01')\n",
    "df.plot()"
   ]
  },
  {
   "cell_type": "markdown",
   "metadata": {},
   "source": [
    "This record has gaps. To correct it, we populate those missing periods with nan's.\n",
    "This is fairly easy for single sites:"
   ]
  },
  {
   "cell_type": "code",
   "execution_count": null,
   "metadata": {},
   "outputs": [],
   "source": [
    "# fill the missing data with nans\n",
    "df.asfreq(freq='D').plot()"
   ]
  },
  {
   "cell_type": "markdown",
   "metadata": {},
   "source": [
    "But queries returning multiple sites are trickier. In fairness, `pandas.MultiIndex` can make simple tasks tricky in general."
   ]
  },
  {
   "cell_type": "code",
   "execution_count": null,
   "metadata": {},
   "outputs": [],
   "source": [
    "df, _ = nwis.get_dv(sites=[\"08271000\", \"08267500\"], parameterCd=\"00060\", start=\"1901-01-01\")\n",
    "df.head()"
   ]
  },
  {
   "cell_type": "markdown",
   "metadata": {},
   "source": [
    "For example, how would you go about nan-ing the multi-site dataframe?\n",
    "Can you find a solution to this \"simple\" problem?"
   ]
  },
  {
   "cell_type": "code",
   "execution_count": null,
   "metadata": {},
   "outputs": [],
   "source": [
    "# will return an error\n",
    "df.asfreq(freq='D')"
   ]
  },
  {
   "cell_type": "markdown",
   "metadata": {},
   "source": [
    "## Query site information\n",
    "Sometimes we need metadata about a monitoring location.\n",
    "For this we can use `nwis.get_info` or `nwis.what_sites`,\n",
    "which are actually the same function with different names.\n",
    "\n",
    "We can pull metadata for a single location."
   ]
  },
  {
   "cell_type": "code",
   "execution_count": null,
   "metadata": {},
   "outputs": [],
   "source": [
    "site = \"05407000\"\n",
    "df, meta = nwis.what_sites(sites=site)\n",
    "\n",
    "df"
   ]
  },
  {
   "cell_type": "markdown",
   "metadata": {},
   "source": [
    "Or construct a multi-location query by providing list of site codes, a state code, or a bounding box.\n",
    "\n",
    "This query will return all stations with data on a particular parameter in one state."
   ]
  },
  {
   "cell_type": "code",
   "execution_count": null,
   "metadata": {},
   "outputs": [],
   "source": [
    "state_cd = \"IL\"\n",
    "parameter_cd = \"00665\" # USGS code for total phosphorus\n",
    "df, meta = nwis.what_sites(\n",
    "    stateCd=state_cd, \n",
    "    parameterCd=parameter_cd,\n",
    ")"
   ]
  },
  {
   "cell_type": "markdown",
   "metadata": {},
   "source": [
    "Just as a quick example, let's visualize those sites on an interactive map."
   ]
  },
  {
   "cell_type": "code",
   "execution_count": null,
   "metadata": {},
   "outputs": [],
   "source": [
    "import geopandas as gpd\n",
    "import hvplot.pandas\n",
    "\n",
    "geometry = gpd.points_from_xy(df.dec_long_va, df.dec_lat_va)\n",
    "gdf = gpd.GeoDataFrame(df, geometry=geometry)\n",
    "\n",
    "gdf.hvplot.points(\n",
    "    geo=True,\n",
    "    hover_cols=[\"site_no\", \"station_nm\"],\n",
    "    tiles=True,\n",
    "    frame_width=300,\n",
    "    size=4,\n",
    ")"
   ]
  },
  {
   "cell_type": "markdown",
   "metadata": {},
   "source": [
    "A typical workflow might begin by downloading data from these sites.\n",
    "Think "
   ]
  },
  {
   "cell_type": "code",
   "execution_count": null,
   "metadata": {},
   "outputs": [],
   "source": [
    "df, _ = nwis.get_qwdata(df.site_no.to_list())"
   ]
  },
  {
   "cell_type": "markdown",
   "metadata": {},
   "source": [
    "That query probably didn't work for you.\n",
    "In general, `dataretrieval` follows the KISS philosophy:\n",
    "we won't make up for limitations in the web service; that's up to you.\n",
    "In this case, we provide an error message with a pseudo-code solution,\n",
    "whereas `hyriver` would fix this behind the scenes.\n",
    "But QWData is going the way of the dinosaurs,\n",
    "and going forward you should be pulling these data from Water Quality Portal (WQP),\n",
    "which we demonstration in the next [notebook](./01-navigating-wqp.ipynb)."
   ]
  },
  {
   "cell_type": "markdown",
   "metadata": {},
   "source": [
    "Before moving on to WQP, let's investigate one more service and demonstrate how services can work in conjunction.\n",
    "\n",
    "Let's query the NWIS \"stats\" service for a particular streamgage."
   ]
  },
  {
   "cell_type": "code",
   "execution_count": null,
   "metadata": {},
   "outputs": [],
   "source": [
    "# feel free to \"Google\" your own gage here: \"usgs discharge Illinois River\", etc.\n",
    "\n",
    "df, _ = nwis.get_stats(sites=\"03339000\")\n",
    "\n",
    "# list what parameters are measured at the gage\n",
    "df.parameter_cd.unique()"
   ]
  },
  {
   "cell_type": "markdown",
   "metadata": {},
   "source": [
    "Here we list the parameter codes measured at this site.\n",
    "More on parameter codes (\"p codes\") later, but they can be cryptic.\n",
    "Fortunately, USGS has a web service for that. \n",
    "Let's use `nwis.get_pmcodes` to decipher them."
   ]
  },
  {
   "cell_type": "code",
   "execution_count": null,
   "metadata": {},
   "outputs": [],
   "source": [
    "codes_df, _ = nwis.get_pmcodes(\n",
    "    df.parameter_cd.unique().tolist()\n",
    ")\n",
    "\n",
    "codes_df"
   ]
  },
  {
   "cell_type": "markdown",
   "metadata": {},
   "source": [
    "That's better. Now select a parameter of interest, and we'll quickly plot it."
   ]
  },
  {
   "cell_type": "code",
   "execution_count": null,
   "metadata": {},
   "outputs": [],
   "source": [
    "parameter = \"99133\" # nitrate\n",
    "parm_df = df[df[\"parameter_cd\"] == parameter].reset_index(drop=True)\n",
    "parm_df"
   ]
  },
  {
   "cell_type": "code",
   "execution_count": null,
   "metadata": {},
   "outputs": [],
   "source": [
    "parm_df[[\"mean_va\",\"p20_va\",\"p80_va\"]].plot()"
   ]
  },
  {
   "cell_type": "markdown",
   "metadata": {},
   "source": [
    "Try plotting a different parameter before we move on to the next notebook."
   ]
  }
 ],
 "metadata": {
  "kernelspec": {
   "display_name": "Python 3",
   "language": "python",
   "name": "python3"
  },
  "language_info": {
   "codemirror_mode": {
    "name": "ipython",
    "version": 3
   },
   "file_extension": ".py",
   "mimetype": "text/x-python",
   "name": "python",
   "nbconvert_exporter": "python",
   "pygments_lexer": "ipython3",
   "version": "3.8.5"
  }
 },
 "nbformat": 4,
 "nbformat_minor": 5
}
