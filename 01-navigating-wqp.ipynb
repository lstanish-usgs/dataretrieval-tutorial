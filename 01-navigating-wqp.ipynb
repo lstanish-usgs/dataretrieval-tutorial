{
 "cells": [
  {
   "cell_type": "markdown",
   "id": "b18bfd1f-ab05-4445-b449-835dbbd4a611",
   "metadata": {},
   "source": [
    "# Multi-Agency Water Quality Data from the Water Quality Portal (WQP)\n",
    "\n",
    "`dataretrieval` also allows users to access data from the [Water Quality Portal](http://www.waterqualitydata.us/). The WQP houses data from multiple agencies; while USGS data comes from the NWIS database, EPA data comes from the STORET database (this includes many state, tribal, NGO, and academic groups). The WQP brings data from all these organizations together and provides it in a single format that has a more verbose output than NWIS. To get non-NWIS data, need to use CharacteristicName instead of parameter code.\n",
    "\n",
    "\n",
    "## WQP Basic Retrievals\n",
    "\n",
    "Much like the convenience functions for NWIS, there's a simple function for retrievals if the site number and parameter code or characteristic name is known.\n",
    "\n",
    "Both `dataretrieva.nwis` and `dataretrieva.wqp` allow users to pass arguments directly to the underlying REST API's; however `wqp` tends to be more bare bones.\n",
    "\n"
   ]
  },
  {
   "cell_type": "code",
   "execution_count": null,
   "id": "f2691dd5-8b92-482b-88e5-2646259ff690",
   "metadata": {},
   "outputs": [],
   "source": [
    "from dataretrieval import wqp\n",
    "[i  for i in dir(wqp) if 'get' in i or 'what' in i]"
   ]
  },
  {
   "cell_type": "code",
   "execution_count": null,
   "id": "a8180785-1506-4887-9f24-8e637075cfca",
   "metadata": {},
   "outputs": [],
   "source": [
    "wqp.get_results?"
   ]
  },
  {
   "cell_type": "code",
   "execution_count": null,
   "id": "4797db0b-06db-419b-9e68-8c1771e4e054",
   "metadata": {},
   "outputs": [],
   "source": [
    "# date query gotcha "
   ]
  },
  {
   "cell_type": "markdown",
   "id": "c9018b8f-df10-4b06-8247-5112a3670aa4",
   "metadata": {},
   "source": [
    "## Large queries\n",
    "Now returning to the problem from the previous notebook,\n",
    "how might we construct a statewide query for phosphorus data?\n",
    "\n",
    "WQP, like NWIS, has it's own idiosyncrasies.\n",
    "In part because WQP's API is changing, `dataretrieval` makes less effort to hide these than for NWIS. Nevertheless, the API is very powerful if you have the doc close at hand."
   ]
  },
  {
   "cell_type": "code",
   "execution_count": null,
   "id": "5d8cfe93-c16c-4cf8-834e-28b8ea96d7c6",
   "metadata": {},
   "outputs": [],
   "source": [
    "from dataretrieval.codes import fips_codes\n",
    "\n",
    "# format FIPS (state) code for WQP\n",
    "statecode = f\"US:{fips_codes['Illinois']}\"\n",
    "statecode"
   ]
  },
  {
   "cell_type": "code",
   "execution_count": null,
   "id": "d138b32b-5f4c-471f-ad1d-34700cd075c9",
   "metadata": {},
   "outputs": [],
   "source": [
    "# now query WQP by state code\n",
    "df, meta = wqp.get_results(\n",
    "    statecode=statecode,\n",
    "    pCode=\"00665\", # total phosphorus\n",
    "    minresults=\"200\",\n",
    "    providers=\"NWIS\", # STORET data don't have pcodes\n",
    ")"
   ]
  },
  {
   "cell_type": "code",
   "execution_count": null,
   "id": "adae9762-96fa-4beb-b549-a15b0e9cc976",
   "metadata": {},
   "outputs": [],
   "source": [
    "df.shape"
   ]
  },
  {
   "cell_type": "code",
   "execution_count": null,
   "id": "41574e72-c00c-4dd9-bfd0-6653980c9037",
   "metadata": {},
   "outputs": [],
   "source": [
    "n_samples = df.shape[0]\n",
    "n_sites = df['MonitoringLocationIdentifier'].unique().shape[0]\n",
    "\n",
    "print(f\"The query returned {n_samples} samples from {n_sites} monitoring sites.\")"
   ]
  },
  {
   "cell_type": "code",
   "execution_count": null,
   "id": "de591f9e-c691-440e-9834-5a756e6f94ed",
   "metadata": {},
   "outputs": [],
   "source": [
    "# timeline plot"
   ]
  },
  {
   "cell_type": "markdown",
   "id": "9395d934-39be-432e-9ae5-bd98a9b1b689",
   "metadata": {},
   "source": [
    "First, use a `groupby` to group by monitoring location, then compute the earliest date at each location."
   ]
  },
  {
   "cell_type": "code",
   "execution_count": null,
   "id": "3ba1d1ed-3c8d-480d-8bfb-51b137feb9b7",
   "metadata": {},
   "outputs": [],
   "source": [
    "groupby = df.groupby('MonitoringLocationIdentifier')\n",
    "\n",
    "start_dates = groupby['ActivityStartDate'].apply(\n",
    "        lambda x: x.min()\n",
    ")\n",
    "\n",
    "start_dates = pd.to_datetime(start_dates)\n"
   ]
  },
  {
   "cell_type": "markdown",
   "id": "79b48908-f465-4d70-8d0c-4f09ea9a5f2c",
   "metadata": {},
   "source": [
    "and the end dates"
   ]
  },
  {
   "cell_type": "code",
   "execution_count": null,
   "id": "b1553c91-6303-42f7-9b90-10ddb7ab0262",
   "metadata": {},
   "outputs": [],
   "source": [
    "end_dates = groupby['ActivityStartDate'].apply(\n",
    "        lambda x: x.max()\n",
    ")\n",
    "\n",
    "end_dates = pd.to_datetime(end_dates)"
   ]
  },
  {
   "cell_type": "code",
   "execution_count": null,
   "id": "7f43af2f-3c09-4941-9824-8e4fb8144440",
   "metadata": {},
   "outputs": [],
   "source": []
  },
  {
   "cell_type": "code",
   "execution_count": null,
   "id": "18a4e31b-30f1-4487-8d4d-bc6e26d11eef",
   "metadata": {},
   "outputs": [],
   "source": [
    "# Matplotlib\n",
    "# https://www.geeksforgeeks.org/python-basic-gantt-chart-using-matplotlib/\n",
    "# https://matplotlib.org/devdocs/api/_as_gen/matplotlib.pyplot.broken_barh.html\n",
    " \n",
    "import matplotlib.pyplot as plt\n",
    "import numpy as np\n",
    " \n",
    "source = pd.DataFrame([\n",
    "    {\"drama\": \"Pride and Prejudice\", \"start\": '1795-01-01', \"end\": '1810-01-01'},\n",
    "    {\"drama\": \"Sense and Sensibility\",\"start\": '1792-01-01', \"end\": '1797-01-01'},\n",
    "    {\"drama\": \"Jane Eyre\",\"start\": '1799-01-01', \"end\": '1819-01-01'},\n",
    "    {\"drama\": \"Bridgerton\",\"start\": '1813-01-01', \"end\": '1827-01-01'},\n",
    "    {\"drama\": \"Middlemarch\",\"start\": '1829-01-01', \"end\": '1832-01-01'}, \n",
    "    {\"drama\": \"Cranford\",\"start\": '1842-01-01', \"end\": '1843-01-01'}, \n",
    "    {\"drama\": \"David Copperfield\",\"start\": '1840-01-01', \"end\": '1860-01-01'}, \n",
    "    {\"drama\": \"Poldark\",\"start\": '1781-01-01', \"end\": '1801-01-01'},\n",
    "    {\"drama\": \"North and South\", \"start\": '1850-01-01', \"end\": '1860-01-01'},\n",
    "    {\"drama\": \"Barchester Chronicles\", \"start\": '1855-01-01', \"end\": '1867-02-01'},\n",
    "    {\"drama\": \"The Way We Live Now\", \"start\": '1870-01-01', \"end\": '1880-02-01'},\n",
    "    {\"drama\": \"Tess of the D’Urbervilles\", \"start\": '1880-01-01', \"end\": '1890-02-01'},\n",
    "    {\"drama\": \"Upstairs, Downstairs\", \"start\": '1903-01-01', \"end\": '1930-02-01'},\n",
    "    {\"drama\": \"Downton Abbey\", \"start\": '1912-01-01', \"end\": '1939-02-01'},\n",
    "    {\"drama\": \"Jewel in the Crown\", \"start\": '1942-01-01', \"end\": '1947-02-01'},\n",
    "    {\"drama\": \"Call the Midwife\", \"start\": '1957-01-01', \"end\": '1967-02-01'},\n",
    " \n",
    "])\n",
    " \n",
    "source['start'] = pd.to_datetime(source['start'])\n",
    "source['end'] = pd.to_datetime(source['end'])\n",
    "source['diff'] = source['end'] - source['start']\n",
    " \n",
    "# Declaring a figure \"gnt\"\n",
    "fig, gnt = plt.subplots(figsize=(8,6))\n",
    " \n",
    "# Need to fix hidden tick labels\n",
    "# https://stackoverflow.com/questions/43673659/matplotlib-not-showing-first-label-on-x-axis-for-the-bar-plot\n",
    " \n",
    "y_tick_labels = source.drama.values\n",
    "y_pos = np.arange(len(y_tick_labels))\n",
    " \n",
    "gnt.set_yticks(y_pos)\n",
    "gnt.set_yticklabels(y_tick_labels)\n",
    " \n",
    " \n",
    "# https://sparkbyexamples.com/python/iterate-over-rows-in-pandas-dataframe/\n",
    "# https://www.tutorialspoint.com/plotting-dates-on-the-x-axis-with-python-s-matplotlib\n",
    "# https://matplotlib.org/stable/gallery/color/named_colors.html\n",
    "# https://pandas.pydata.org/pandas-docs/stable/reference/api/pandas.DataFrame.sort_values.html\n",
    "# https://www.geeksforgeeks.org/how-to-annotate-matplotlib-scatter-plots\n",
    "for index, row in source.sort_values(by='start').reset_index().iterrows():\n",
    "    start_year = int(row.start.strftime(\"%Y\"))\n",
    "    duration = row['diff'].days/365\n",
    "    gnt.broken_barh([(start_year, duration)], \n",
    "                    (index-0.5,0.8), \n",
    "                    facecolors =('tan'),\n",
    "                   label=row.drama)\n",
    "    gnt.text(start_year+0.5, index-0.2, row.drama)"
   ]
  },
  {
   "cell_type": "markdown",
   "id": "285c40b5-5deb-4db2-846b-9be5f63564d8",
   "metadata": {},
   "source": [
    "go on to demonstrate some of the major difference between wqp and qwdata"
   ]
  },
  {
   "cell_type": "code",
   "execution_count": null,
   "id": "1d836d13-07b2-4b0c-8d6e-0e401e4efaae",
   "metadata": {},
   "outputs": [],
   "source": []
  }
 ],
 "metadata": {
  "kernelspec": {
   "display_name": "Python 3 (ipykernel)",
   "language": "python",
   "name": "python3"
  },
  "language_info": {
   "codemirror_mode": {
    "name": "ipython",
    "version": 3
   },
   "file_extension": ".py",
   "mimetype": "text/x-python",
   "name": "python",
   "nbconvert_exporter": "python",
   "pygments_lexer": "ipython3",
   "version": "3.12.3"
  }
 },
 "nbformat": 4,
 "nbformat_minor": 5
}
